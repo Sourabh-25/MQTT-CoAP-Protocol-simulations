
import pandas as pd
import matplotlib.pyplot as plt

def compare_csv_files(file1, file2, title1, title2):
    # Load data from CSV files
    data1 = pd.read_csv(file1)
    data2 = pd.read_csv(file2)

    # Plot Latency vs Message Size
    plt.figure(figsize=(12, 6))
    plt.plot(data1['Message_Size'], data1['Latency'], label=title1)
    plt.plot(data2['Message_Size'], data2['Latency'], label=title2)
    plt.title('Latency vs Message Size')
    plt.xlabel('Message Size')
    plt.ylabel('Latency (s)')
    plt.legend()
    plt.show()

    # Plot Throughput vs Message Size
    plt.figure(figsize=(12, 6))
    plt.plot(data1['Message_Size'], data1['Throughput'], label=title1)
    plt.plot(data2['Message_Size'], data2['Throughput'], label=title2)
    plt.title('Throughput vs Message Size')
    plt.xlabel('Message Size')
    plt.ylabel('Throughput (Bytes/s)')
    plt.legend()
    plt.show()

